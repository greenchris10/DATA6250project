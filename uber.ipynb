{
  "nbformat": 4,
  "nbformat_minor": 0,
  "metadata": {
    "colab": {
      "provenance": []
    },
    "kernelspec": {
      "name": "python3",
      "display_name": "Python 3"
    },
    "language_info": {
      "name": "python"
    }
  },
  "cells": [
    {
      "cell_type": "code",
      "execution_count": 2,
      "metadata": {
        "id": "uNH40uUqvUzq",
        "colab": {
          "base_uri": "https://localhost:8080/"
        },
        "outputId": "b8002d27-43ad-428a-a376-6d714c45fa9d"
      },
      "outputs": [
        {
          "output_type": "stream",
          "name": "stdout",
          "text": [
            "<class 'pandas.core.frame.DataFrame'>\n",
            "RangeIndex: 134455 entries, 0 to 134454\n",
            "Data columns (total 57 columns):\n",
            " #   Column                       Non-Null Count   Dtype  \n",
            "---  ------                       --------------   -----  \n",
            " 0   id                           134455 non-null  object \n",
            " 1   timestamp                    134455 non-null  float64\n",
            " 2   hour                         134455 non-null  int64  \n",
            " 3   day                          134455 non-null  int64  \n",
            " 4   month                        134455 non-null  int64  \n",
            " 5   datetime                     134455 non-null  object \n",
            " 6   timezone                     134455 non-null  object \n",
            " 7   source                       134455 non-null  object \n",
            " 8   destination                  134455 non-null  object \n",
            " 9   cab_type                     134455 non-null  object \n",
            " 10  product_id                   134455 non-null  object \n",
            " 11  name                         134455 non-null  object \n",
            " 12  price                        123773 non-null  float64\n",
            " 13  distance                     134455 non-null  float64\n",
            " 14  surge_multiplier             134455 non-null  float64\n",
            " 15  latitude                     134455 non-null  float64\n",
            " 16  longitude                    134455 non-null  float64\n",
            " 17  temperature                  134455 non-null  float64\n",
            " 18  apparentTemperature          134455 non-null  float64\n",
            " 19  short_summary                134455 non-null  object \n",
            " 20  long_summary                 134455 non-null  object \n",
            " 21  precipIntensity              134455 non-null  float64\n",
            " 22  precipProbability            134455 non-null  float64\n",
            " 23  humidity                     134455 non-null  float64\n",
            " 24  windSpeed                    134455 non-null  float64\n",
            " 25  windGust                     134455 non-null  float64\n",
            " 26  windGustTime                 134455 non-null  int64  \n",
            " 27  visibility                   134455 non-null  float64\n",
            " 28  temperatureHigh              134455 non-null  float64\n",
            " 29  temperatureHighTime          134454 non-null  float64\n",
            " 30  temperatureLow               134454 non-null  float64\n",
            " 31  temperatureLowTime           134454 non-null  float64\n",
            " 32  apparentTemperatureHigh      134454 non-null  float64\n",
            " 33  apparentTemperatureHighTime  134454 non-null  float64\n",
            " 34  apparentTemperatureLow       134454 non-null  float64\n",
            " 35  apparentTemperatureLowTime   134454 non-null  float64\n",
            " 36  icon                         134454 non-null  object \n",
            " 37  dewPoint                     134454 non-null  float64\n",
            " 38  pressure                     134454 non-null  float64\n",
            " 39  windBearing                  134454 non-null  float64\n",
            " 40  cloudCover                   134454 non-null  float64\n",
            " 41  uvIndex                      134454 non-null  float64\n",
            " 42  visibility.1                 134454 non-null  float64\n",
            " 43  ozone                        134454 non-null  float64\n",
            " 44  sunriseTime                  134454 non-null  float64\n",
            " 45  sunsetTime                   134454 non-null  float64\n",
            " 46  moonPhase                    134454 non-null  float64\n",
            " 47  precipIntensityMax           134454 non-null  float64\n",
            " 48  uvIndexTime                  134454 non-null  float64\n",
            " 49  temperatureMin               134454 non-null  float64\n",
            " 50  temperatureMinTime           134454 non-null  float64\n",
            " 51  temperatureMax               134454 non-null  float64\n",
            " 52  temperatureMaxTime           134454 non-null  float64\n",
            " 53  apparentTemperatureMin       134454 non-null  float64\n",
            " 54  apparentTemperatureMinTime   134454 non-null  float64\n",
            " 55  apparentTemperatureMax       134454 non-null  float64\n",
            " 56  apparentTemperatureMaxTime   134454 non-null  float64\n",
            "dtypes: float64(42), int64(4), object(11)\n",
            "memory usage: 58.5+ MB\n"
          ]
        }
      ],
      "source": [
        "import pandas as pd\n",
        "import numpy as np\n",
        "import seaborn as sns\n",
        "import matplotlib.pyplot as plt\n",
        "\n",
        "df = pd.read_csv(\"rideshare_kaggle.csv\")\n",
        "\n",
        "df.info()"
      ]
    },
    {
      "cell_type": "code",
      "source": [
        "df.price.hist()"
      ],
      "metadata": {
        "colab": {
          "base_uri": "https://localhost:8080/",
          "height": 447
        },
        "id": "y5AfX23UhMFm",
        "outputId": "e8b41158-218f-424e-e6d5-649f36f36617"
      },
      "execution_count": 3,
      "outputs": [
        {
          "output_type": "execute_result",
          "data": {
            "text/plain": [
              "<Axes: >"
            ]
          },
          "metadata": {},
          "execution_count": 3
        },
        {
          "output_type": "display_data",
          "data": {
            "text/plain": [
              "<Figure size 640x480 with 1 Axes>"
            ],
            "image/png": "[encoded data removed]"
          },
          "metadata": {}
        }
      ]
    },
    {
      "cell_type": "code",
      "source": [
        "df.head()"
      ],
      "metadata": {
        "colab": {
          "base_uri": "https://localhost:8080/",
          "height": 552
        },
        "id": "9kyEOBq2ymbu",
        "outputId": "77e8fe78-0ca0-420e-bf9a-498adc6cd96a"
      },
      "execution_count": 4,
      "outputs": [
        {
          "output_type": "execute_result",
          "data": {
            "text/plain": [
              "                                     id     timestamp  hour  day  month  \\\n",
              "0  424553bb-7174-41ea-aeb4-fe06d4f4b9d7  1.544953e+09     9   16     12   \n",
              "1  4bd23055-6827-41c6-b23b-3c491f24e74d  1.543284e+09     2   27     11   \n",
              "2  981a3613-77af-4620-a42a-0c0866077d1e  1.543367e+09     1   28     11   \n",
              "3  c2d88af2-d278-4bfd-a8d0-29ca77cc5512  1.543554e+09     4   30     11   \n",
              "4  e0126e1f-8ca9-4f2e-82b3-50505a09db9a  1.543463e+09     3   29     11   \n",
              "\n",
              "              datetime          timezone            source    destination  \\\n",
              "0  2018-12-16 09:30:07  America/New_York  Haymarket Square  North Station   \n",
              "1  2018-11-27 02:00:23  America/New_York  Haymarket Square  North Station   \n",
              "2  2018-11-28 01:00:22  America/New_York  Haymarket Square  North Station   \n",
              "3  2018-11-30 04:53:02  America/New_York  Haymarket Square  North Station   \n",
              "4  2018-11-29 03:49:20  America/New_York  Haymarket Square  North Station   \n",
              "\n",
              "  cab_type  ... precipIntensityMax   uvIndexTime  temperatureMin  \\\n",
              "0     Lyft  ...             0.1276  1.544980e+09           39.89   \n",
              "1     Lyft  ...             0.1300  1.543252e+09           40.49   \n",
              "2     Lyft  ...             0.1064  1.543338e+09           35.36   \n",
              "3     Lyft  ...             0.0000  1.543507e+09           34.67   \n",
              "4     Lyft  ...             0.0001  1.543421e+09           33.10   \n",
              "\n",
              "   temperatureMinTime  temperatureMax  temperatureMaxTime  \\\n",
              "0        1.545012e+09           43.68        1.544969e+09   \n",
              "1        1.543234e+09           47.30        1.543252e+09   \n",
              "2        1.543378e+09           47.55        1.543320e+09   \n",
              "3        1.543550e+09           45.03        1.543511e+09   \n",
              "4        1.543403e+09           42.18        1.543421e+09   \n",
              "\n",
              "   apparentTemperatureMin  apparentTemperatureMinTime  apparentTemperatureMax  \\\n",
              "0                   33.73                1.545012e+09                   38.07   \n",
              "1                   36.20                1.543291e+09                   43.92   \n",
              "2                   31.04                1.543378e+09                   44.12   \n",
              "3                   30.30                1.543550e+09                   38.53   \n",
              "4                   29.11                1.543392e+09                   35.75   \n",
              "\n",
              "  apparentTemperatureMaxTime  \n",
              "0               1.544958e+09  \n",
              "1               1.543252e+09  \n",
              "2               1.543320e+09  \n",
              "3               1.543511e+09  \n",
              "4               1.543421e+09  \n",
              "\n",
              "[5 rows x 57 columns]"
            ],
            "text/html": [
              "\n",
              "  <div id=\"df-165cbe01-6c8d-4164-ae63-8291293017c0\">\n",
              "    <div class=\"colab-df-container\">\n",
              "      <div>\n",
              "<style scoped>\n",
              "    .dataframe tbody tr th:only-of-type {\n",
              "        vertical-align: middle;\n",
              "    }\n",
              "\n",
              "    .dataframe tbody tr th {\n",
              "        vertical-align: top;\n",
              "    }\n",
              "\n",
              "    .dataframe thead th {\n",
              "        text-align: right;\n",
              "    }\n",
              "</style>\n",
              "<table border=\"1\" class=\"dataframe\">\n",
              "  <thead>\n",
              "    <tr style=\"text-align: right;\">\n",
              "      <th></th>\n",
              "      <th>id</th>\n",
              "      <th>timestamp</th>\n",
              "      <th>hour</th>\n",
              "      <th>day</th>\n",
              "      <th>month</th>\n",
              "      <th>datetime</th>\n",
              "      <th>timezone</th>\n",
              "      <th>source</th>\n",
              "      <th>destination</th>\n",
              "      <th>cab_type</th>\n",
              "      <th>...</th>\n",
              "      <th>precipIntensityMax</th>\n",
              "      <th>uvIndexTime</th>\n",
              "      <th>temperatureMin</th>\n",
              "      <th>temperatureMinTime</th>\n",
              "      <th>temperatureMax</th>\n",
              "      <th>temperatureMaxTime</th>\n",
              "      <th>apparentTemperatureMin</th>\n",
              "      <th>apparentTemperatureMinTime</th>\n",
              "      <th>apparentTemperatureMax</th>\n",
              "      <th>apparentTemperatureMaxTime</th>\n",
              "    </tr>\n",
              "  </thead>\n",
              "  <tbody>\n",
              "    <tr>\n",
              "      <th>0</th>\n",
              "      <td>424553bb-7174-41ea-aeb4-fe06d4f4b9d7</td>\n",
              "      <td>1.544953e+09</td>\n",
              "      <td>9</td>\n",
              "      <td>16</td>\n",
              "      <td>12</td>\n",
              "      <td>2018-12-16 09:30:07</td>\n",
              "      <td>America/New_York</td>\n",
              "      <td>Haymarket Square</td>\n",
              "      <td>North Station</td>\n",
              "      <td>Lyft</td>\n",
              "      <td>...</td>\n",
              "      <td>0.1276</td>\n",
              "      <td>1.544980e+09</td>\n",
              "      <td>39.89</td>\n",
              "      <td>1.545012e+09</td>\n",
              "      <td>43.68</td>\n",
              "      <td>1.544969e+09</td>\n",
              "      <td>33.73</td>\n",
              "      <td>1.545012e+09</td>\n",
              "      <td>38.07</td>\n",
              "      <td>1.544958e+09</td>\n",
              "    </tr>\n",
              "    <tr>\n",
              "      <th>1</th>\n",
              "      <td>4bd23055-6827-41c6-b23b-3c491f24e74d</td>\n",
              "      <td>1.543284e+09</td>\n",
              "      <td>2</td>\n",
              "      <td>27</td>\n",
              "      <td>11</td>\n",
              "      <td>2018-11-27 02:00:23</td>\n",
              "      <td>America/New_York</td>\n",
              "      <td>Haymarket Square</td>\n",
              "      <td>North Station</td>\n",
              "      <td>Lyft</td>\n",
              "      <td>...</td>\n",
              "      <td>0.1300</td>\n",
              "      <td>1.543252e+09</td>\n",
              "      <td>40.49</td>\n",
              "      <td>1.543234e+09</td>\n",
              "      <td>47.30</td>\n",
              "      <td>1.543252e+09</td>\n",
              "      <td>36.20</td>\n",
              "      <td>1.543291e+09</td>\n",
              "      <td>43.92</td>\n",
              "      <td>1.543252e+09</td>\n",
              "    </tr>\n",
              "    <tr>\n",
              "      <th>2</th>\n",
              "      <td>981a3613-77af-4620-a42a-0c0866077d1e</td>\n",
              "      <td>1.543367e+09</td>\n",
              "      <td>1</td>\n",
              "      <td>28</td>\n",
              "      <td>11</td>\n",
              "      <td>2018-11-28 01:00:22</td>\n",
              "      <td>America/New_York</td>\n",
              "      <td>Haymarket Square</td>\n",
              "      <td>North Station</td>\n",
              "      <td>Lyft</td>\n",
              "      <td>...</td>\n",
              "      <td>0.1064</td>\n",
              "      <td>1.543338e+09</td>\n",
              "      <td>35.36</td>\n",
              "      <td>1.543378e+09</td>\n",
              "      <td>47.55</td>\n",
              "      <td>1.543320e+09</td>\n",
              "      <td>31.04</td>\n",
              "      <td>1.543378e+09</td>\n",
              "      <td>44.12</td>\n",
              "      <td>1.543320e+09</td>\n",
              "    </tr>\n",
              "    <tr>\n",
              "      <th>3</th>\n",
              "      <td>c2d88af2-d278-4bfd-a8d0-29ca77cc5512</td>\n",
              "      <td>1.543554e+09</td>\n",
              "      <td>4</td>\n",
              "      <td>30</td>\n",
              "      <td>11</td>\n",
              "      <td>2018-11-30 04:53:02</td>\n",
              "      <td>America/New_York</td>\n",
              "      <td>Haymarket Square</td>\n",
              "      <td>North Station</td>\n",
              "      <td>Lyft</td>\n",
              "      <td>...</td>\n",
              "      <td>0.0000</td>\n",
              "      <td>1.543507e+09</td>\n",
              "      <td>34.67</td>\n",
              "      <td>1.543550e+09</td>\n",
              "      <td>45.03</td>\n",
              "      <td>1.543511e+09</td>\n",
              "      <td>30.30</td>\n",
              "      <td>1.543550e+09</td>\n",
              "      <td>38.53</td>\n",
              "      <td>1.543511e+09</td>\n",
              "    </tr>\n",
              "    <tr>\n",
              "      <th>4</th>\n",
              "      <td>e0126e1f-8ca9-4f2e-82b3-50505a09db9a</td>\n",
              "      <td>1.543463e+09</td>\n",
              "      <td>3</td>\n",
              "      <td>29</td>\n",
              "      <td>11</td>\n",
              "      <td>2018-11-29 03:49:20</td>\n",
              "      <td>America/New_York</td>\n",
              "      <td>Haymarket Square</td>\n",
              "      <td>North Station</td>\n",
              "      <td>Lyft</td>\n",
              "      <td>...</td>\n",
              "      <td>0.0001</td>\n",
              "      <td>1.543421e+09</td>\n",
              "      <td>33.10</td>\n",
              "      <td>1.543403e+09</td>\n",
              "      <td>42.18</td>\n",
              "      <td>1.543421e+09</td>\n",
              "      <td>29.11</td>\n",
              "      <td>1.543392e+09</td>\n",
              "      <td>35.75</td>\n",
              "      <td>1.543421e+09</td>\n",
              "    </tr>\n",
              "  </tbody>\n",
              "</table>\n",
              "<p>5 rows × 57 columns</p>\n",
              "</div>\n",
              "      <button class=\"colab-df-convert\" onclick=\"convertToInteractive('df-165cbe01-6c8d-4164-ae63-8291293017c0')\"\n",
              "              title=\"Convert this dataframe to an interactive table.\"\n",
              "              style=\"display:none;\">\n",
              "        \n",
              "  <svg xmlns=\"http://www.w3.org/2000/svg\" height=\"24px\"viewBox=\"0 0 24 24\"\n",
              "       width=\"24px\">\n",
              "    <path d=\"M0 0h24v24H0V0z\" fill=\"none\"/>\n",
              "    <path d=\"M18.56 5.44l.94 2.06.94-2.06 2.06-.94-2.06-.94-.94-2.06-.94 2.06-2.06.94zm-11 1L8.5 8.5l.94-2.06 2.06-.94-2.06-.94L8.5 2.5l-.94 2.06-2.06.94zm10 10l.94 2.06.94-2.06 2.06-.94-2.06-.94-.94-2.06-.94 2.06-2.06.94z\"/><path d=\"M17.41 7.96l-1.37-1.37c-.4-.4-.92-.59-1.43-.59-.52 0-1.04.2-1.43.59L10.3 9.45l-7.72 7.72c-.78.78-.78 2.05 0 2.83L4 21.41c.39.39.9.59 1.41.59.51 0 1.02-.2 1.41-.59l7.78-7.78 2.81-2.81c.8-.78.8-2.07 0-2.86zM5.41 20L4 18.59l7.72-7.72 1.47 1.35L5.41 20z\"/>\n",
              "  </svg>\n",
              "      </button>\n",
              "      \n",
              "  <style>\n",
              "    .colab-df-container {\n",
              "      display:flex;\n",
              "      flex-wrap:wrap;\n",
              "      gap: 12px;\n",
              "    }\n",
              "\n",
              "    .colab-df-convert {\n",
              "      background-color: #E8F0FE;\n",
              "      border: none;\n",
              "      border-radius: 50%;\n",
              "      cursor: pointer;\n",
              "      display: none;\n",
              "      fill: #1967D2;\n",
              "      height: 32px;\n",
              "      padding: 0 0 0 0;\n",
              "      width: 32px;\n",
              "    }\n",
              "\n",
              "    .colab-df-convert:hover {\n",
              "      background-color: #E2EBFA;\n",
              "      box-shadow: 0px 1px 2px rgba(60, 64, 67, 0.3), 0px 1px 3px 1px rgba(60, 64, 67, 0.15);\n",
              "      fill: #174EA6;\n",
              "    }\n",
              "\n",
              "    [theme=dark] .colab-df-convert {\n",
              "      background-color: #3B4455;\n",
              "      fill: #D2E3FC;\n",
              "    }\n",
              "\n",
              "    [theme=dark] .colab-df-convert:hover {\n",
              "      background-color: #434B5C;\n",
              "      box-shadow: 0px 1px 3px 1px rgba(0, 0, 0, 0.15);\n",
              "      filter: drop-shadow(0px 1px 2px rgba(0, 0, 0, 0.3));\n",
              "      fill: #FFFFFF;\n",
              "    }\n",
              "  </style>\n",
              "\n",
              "      <script>\n",
              "        const buttonEl =\n",
              "          document.querySelector('#df-165cbe01-6c8d-4164-ae63-8291293017c0 button.colab-df-convert');\n",
              "        buttonEl.style.display =\n",
              "          google.colab.kernel.accessAllowed ? 'block' : 'none';\n",
              "\n",
              "        async function convertToInteractive(key) {\n",
              "          const element = document.querySelector('#df-165cbe01-6c8d-4164-ae63-8291293017c0');\n",
              "          const dataTable =\n",
              "            await google.colab.kernel.invokeFunction('convertToInteractive',\n",
              "                                                     [key], {});\n",
              "          if (!dataTable) return;\n",
              "\n",
              "          const docLinkHtml = 'Like what you see? Visit the ' +\n",
              "            '<a target=\"_blank\" href=https://colab.research.google.com/notebooks/data_table.ipynb>data table notebook</a>'\n",
              "            + ' to learn more about interactive tables.';\n",
              "          element.innerHTML = '';\n",
              "          dataTable['output_type'] = 'display_data';\n",
              "          await google.colab.output.renderOutput(dataTable, element);\n",
              "          const docLink = document.createElement('div');\n",
              "          docLink.innerHTML = docLinkHtml;\n",
              "          element.appendChild(docLink);\n",
              "        }\n",
              "      </script>\n",
              "    </div>\n",
              "  </div>\n",
              "  "
            ]
          },
          "metadata": {},
          "execution_count": 4
        }
      ]
    },
    {
      "cell_type": "code",
      "source": [
        "#number of distinct values in 'timezone' column\n",
        "\n",
        "print(len(pd.unique(df['timezone'])))"
      ],
      "metadata": {
        "colab": {
          "base_uri": "https://localhost:8080/"
        },
        "id": "vpm5-P09y_kC",
        "outputId": "d7d2476a-1ad3-4ec6-e6db-c775372bfc59"
      },
      "execution_count": 5,
      "outputs": [
        {
          "output_type": "stream",
          "name": "stdout",
          "text": [
            "1\n"
          ]
        }
      ]
    },
    {
      "cell_type": "code",
      "source": [
        "df = df.drop(columns = ['id','timezone', 'datetime','timestamp', \n",
        "                        'temperatureHigh','temperatureHighTime', 'temperatureLow',\n",
        "                        'temperatureLowTime', 'apparentTemperatureHigh', 'temperatureMin',\n",
        "                        'temperatureMinTime', 'temperatureMax', 'temperatureMaxTime',\n",
        "                        'apparentTemperatureHighTime', 'apparentTemperatureLow',\n",
        "                        'apparentTemperatureLowTime', 'apparentTemperatureMin', 'apparentTemperatureMinTime',\n",
        "                        'apparentTemperatureMax', 'apparentTemperatureMaxTime','visibility.1',\n",
        "                        'precipIntensityMax', 'uvIndexTime'])"
      ],
      "metadata": {
        "id": "MCIraqTJwdtl"
      },
      "execution_count": 6,
      "outputs": []
    },
    {
      "cell_type": "code",
      "source": [
        "df.isna().sum()"
      ],
      "metadata": {
        "colab": {
          "base_uri": "https://localhost:8080/"
        },
        "id": "mEty_dFCzh-j",
        "outputId": "0a6268f2-4f9c-48cf-9b77-e221cf48bfa8"
      },
      "execution_count": 7,
      "outputs": [
        {
          "output_type": "execute_result",
          "data": {
            "text/plain": [
              "hour                       0\n",
              "day                        0\n",
              "month                      0\n",
              "source                     0\n",
              "destination                0\n",
              "cab_type                   0\n",
              "product_id                 0\n",
              "name                       0\n",
              "price                  10682\n",
              "distance                   0\n",
              "surge_multiplier           0\n",
              "latitude                   0\n",
              "longitude                  0\n",
              "temperature                0\n",
              "apparentTemperature        0\n",
              "short_summary              0\n",
              "long_summary               0\n",
              "precipIntensity            0\n",
              "precipProbability          0\n",
              "humidity                   0\n",
              "windSpeed                  0\n",
              "windGust                   0\n",
              "windGustTime               0\n",
              "visibility                 0\n",
              "icon                       1\n",
              "dewPoint                   1\n",
              "pressure                   1\n",
              "windBearing                1\n",
              "cloudCover                 1\n",
              "uvIndex                    1\n",
              "ozone                      1\n",
              "sunriseTime                1\n",
              "sunsetTime                 1\n",
              "moonPhase                  1\n",
              "dtype: int64"
            ]
          },
          "metadata": {},
          "execution_count": 7
        }
      ]
    },
    {
      "cell_type": "code",
      "source": [
        "df['price'] = df['price'].fillna(df['price'].median())"
      ],
      "metadata": {
        "id": "g3N9XGngWfnF"
      },
      "execution_count": 8,
      "outputs": []
    },
    {
      "cell_type": "code",
      "source": [
        "df.isna().sum()"
      ],
      "metadata": {
        "id": "nbNxosHLf-Sq",
        "outputId": "9672c7af-5f92-451d-9b62-a4c73c9f273e",
        "colab": {
          "base_uri": "https://localhost:8080/"
        }
      },
      "execution_count": 9,
      "outputs": [
        {
          "output_type": "execute_result",
          "data": {
            "text/plain": [
              "hour                   0\n",
              "day                    0\n",
              "month                  0\n",
              "source                 0\n",
              "destination            0\n",
              "cab_type               0\n",
              "product_id             0\n",
              "name                   0\n",
              "price                  0\n",
              "distance               0\n",
              "surge_multiplier       0\n",
              "latitude               0\n",
              "longitude              0\n",
              "temperature            0\n",
              "apparentTemperature    0\n",
              "short_summary          0\n",
              "long_summary           0\n",
              "precipIntensity        0\n",
              "precipProbability      0\n",
              "humidity               0\n",
              "windSpeed              0\n",
              "windGust               0\n",
              "windGustTime           0\n",
              "visibility             0\n",
              "icon                   1\n",
              "dewPoint               1\n",
              "pressure               1\n",
              "windBearing            1\n",
              "cloudCover             1\n",
              "uvIndex                1\n",
              "ozone                  1\n",
              "sunriseTime            1\n",
              "sunsetTime             1\n",
              "moonPhase              1\n",
              "dtype: int64"
            ]
          },
          "metadata": {},
          "execution_count": 9
        }
      ]
    },
    {
      "cell_type": "code",
      "source": [
        "df.corr()['price']"
      ],
      "metadata": {
        "id": "Hfp2oG94gB04",
        "colab": {
          "base_uri": "https://localhost:8080/"
        },
        "outputId": "a46327b8-773c-4257-e6a9-a3ff3b6fa4bd"
      },
      "execution_count": 10,
      "outputs": [
        {
          "output_type": "stream",
          "name": "stderr",
          "text": [
            "<ipython-input-10-cbe57b8e6d9c>:1: FutureWarning: The default value of numeric_only in DataFrame.corr is deprecated. In a future version, it will default to False. Select only valid columns or specify the value of numeric_only to silence this warning.\n",
            "  df.corr()['price']\n"
          ]
        },
        {
          "output_type": "execute_result",
          "data": {
            "text/plain": [
              "hour                   0.000084\n",
              "day                   -0.002031\n",
              "month                  0.001197\n",
              "price                  1.000000\n",
              "distance               0.329165\n",
              "surge_multiplier       0.246834\n",
              "latitude               0.004503\n",
              "longitude             -0.005416\n",
              "temperature            0.000331\n",
              "apparentTemperature   -0.000153\n",
              "precipIntensity       -0.000186\n",
              "precipProbability     -0.000761\n",
              "humidity               0.002805\n",
              "windSpeed              0.002515\n",
              "windGust               0.003286\n",
              "windGustTime          -0.000403\n",
              "visibility            -0.000288\n",
              "dewPoint               0.001886\n",
              "pressure              -0.002056\n",
              "windBearing            0.004844\n",
              "cloudCover             0.003547\n",
              "uvIndex               -0.000215\n",
              "ozone                  0.000334\n",
              "sunriseTime           -0.000353\n",
              "sunsetTime            -0.000353\n",
              "moonPhase              0.001543\n",
              "Name: price, dtype: float64"
            ]
          },
          "metadata": {},
          "execution_count": 10
        }
      ]
    },
    {
      "cell_type": "markdown",
      "source": [
        "Price has a strong positive correlation with distance and surge_multiplier. There is a very weak correlation with precipIntesity so I will drop that column. Latitude and longitude might be redundent columns since we have source and destination columns. Since we have the icon column that gives us a good description of the weather and time-of-day, I think we can drop the weather, and time/day columns. Product_id is also an irrelavant column I can drop."
      ],
      "metadata": {
        "id": "p9zob_EvLa00"
      }
    },
    {
      "cell_type": "code",
      "source": [
        "df = df.drop(columns = ['product_id','hour','day','month','precipIntensity','precipProbability', 'windGust','windSpeed','windGustTime','ozone', 'uvIndex','dewPoint', 'pressure', 'ozone',\n",
        "                        'cloudCover', 'windBearing','sunriseTime', 'sunsetTime','apparentTemperature', 'moonPhase', 'visibility','latitude', 'longitude', 'humidity', 'temperature',\n",
        "                        'short_summary','long_summary'])"
      ],
      "metadata": {
        "id": "KZ-8njaB3_tm"
      },
      "execution_count": 11,
      "outputs": []
    },
    {
      "cell_type": "code",
      "source": [
        "df.columns"
      ],
      "metadata": {
        "colab": {
          "base_uri": "https://localhost:8080/"
        },
        "id": "6Sgq7fiTPBy5",
        "outputId": "7d7e0c91-619b-4612-98d5-5efb6887e7a6"
      },
      "execution_count": 12,
      "outputs": [
        {
          "output_type": "execute_result",
          "data": {
            "text/plain": [
              "Index(['source', 'destination', 'cab_type', 'name', 'price', 'distance',\n",
              "       'surge_multiplier', 'icon'],\n",
              "      dtype='object')"
            ]
          },
          "metadata": {},
          "execution_count": 12
        }
      ]
    },
    {
      "cell_type": "code",
      "source": [
        "df.columns"
      ],
      "metadata": {
        "colab": {
          "base_uri": "https://localhost:8080/"
        },
        "id": "YsXLExmzTsj6",
        "outputId": "cd9574fb-d88e-4817-f4c6-74e02d657b02"
      },
      "execution_count": 13,
      "outputs": [
        {
          "output_type": "execute_result",
          "data": {
            "text/plain": [
              "Index(['source', 'destination', 'cab_type', 'name', 'price', 'distance',\n",
              "       'surge_multiplier', 'icon'],\n",
              "      dtype='object')"
            ]
          },
          "metadata": {},
          "execution_count": 13
        }
      ]
    },
    {
      "cell_type": "code",
      "source": [
        "df['source'].unique()"
      ],
      "metadata": {
        "colab": {
          "base_uri": "https://localhost:8080/"
        },
        "id": "u_-jdW725TbB",
        "outputId": "faed3311-44ee-41ea-fa09-bbf297ae23f4"
      },
      "execution_count": 14,
      "outputs": [
        {
          "output_type": "execute_result",
          "data": {
            "text/plain": [
              "array(['Haymarket Square', 'Back Bay', 'North End', 'North Station',\n",
              "       'Beacon Hill', 'Boston University', 'Fenway', 'South Station',\n",
              "       'Theatre District', 'West End', 'Financial District',\n",
              "       'Northeastern University'], dtype=object)"
            ]
          },
          "metadata": {},
          "execution_count": 14
        }
      ]
    },
    {
      "cell_type": "code",
      "source": [
        "df['destination'].unique()"
      ],
      "metadata": {
        "colab": {
          "base_uri": "https://localhost:8080/"
        },
        "id": "tn4yASzU7qY5",
        "outputId": "493acf49-63a6-42c0-ebeb-80cf0adbce07"
      },
      "execution_count": 15,
      "outputs": [
        {
          "output_type": "execute_result",
          "data": {
            "text/plain": [
              "array(['North Station', 'Northeastern University', 'West End',\n",
              "       'Haymarket Square', 'South Station', 'Fenway', 'Theatre District',\n",
              "       'Beacon Hill', 'Back Bay', 'North End', 'Financial District',\n",
              "       'Boston University'], dtype=object)"
            ]
          },
          "metadata": {},
          "execution_count": 15
        }
      ]
    },
    {
      "cell_type": "code",
      "source": [
        "df['name'].unique()"
      ],
      "metadata": {
        "colab": {
          "base_uri": "https://localhost:8080/"
        },
        "id": "d3G8PqUd-l2p",
        "outputId": "2cb377dc-1e7d-4a9a-e1f4-81dc8080a60b"
      },
      "execution_count": 16,
      "outputs": [
        {
          "output_type": "execute_result",
          "data": {
            "text/plain": [
              "array(['Shared', 'Lux', 'Lyft', 'Lux Black XL', 'Lyft XL', 'Lux Black',\n",
              "       'UberXL', 'Black', 'UberX', 'WAV', 'Black SUV', 'UberPool', 'Taxi'],\n",
              "      dtype=object)"
            ]
          },
          "metadata": {},
          "execution_count": 16
        }
      ]
    },
    {
      "cell_type": "code",
      "source": [
        "df['icon'].unique()"
      ],
      "metadata": {
        "colab": {
          "base_uri": "https://localhost:8080/"
        },
        "id": "shyffubi-sRj",
        "outputId": "02b5b4fa-25c1-4563-f989-c8cc228ddbb4"
      },
      "execution_count": 17,
      "outputs": [
        {
          "output_type": "execute_result",
          "data": {
            "text/plain": [
              "array([' partly-cloudy-night ', ' rain ', ' clear-night ', ' cloudy ',\n",
              "       ' fog ', ' clear-day ', ' partly-cloudy-day ', nan], dtype=object)"
            ]
          },
          "metadata": {},
          "execution_count": 17
        }
      ]
    },
    {
      "cell_type": "code",
      "source": [
        "df.head()"
      ],
      "metadata": {
        "id": "yihXFCu2-y6b",
        "colab": {
          "base_uri": "https://localhost:8080/",
          "height": 204
        },
        "outputId": "57d077f2-5f87-4cb6-abc6-8ce628bd8a54"
      },
      "execution_count": 18,
      "outputs": [
        {
          "output_type": "execute_result",
          "data": {
            "text/plain": [
              "             source    destination cab_type          name  price  distance  \\\n",
              "0  Haymarket Square  North Station     Lyft        Shared    5.0      0.44   \n",
              "1  Haymarket Square  North Station     Lyft           Lux   11.0      0.44   \n",
              "2  Haymarket Square  North Station     Lyft          Lyft    7.0      0.44   \n",
              "3  Haymarket Square  North Station     Lyft  Lux Black XL   26.0      0.44   \n",
              "4  Haymarket Square  North Station     Lyft       Lyft XL    9.0      0.44   \n",
              "\n",
              "   surge_multiplier                   icon  \n",
              "0               1.0   partly-cloudy-night   \n",
              "1               1.0                  rain   \n",
              "2               1.0           clear-night   \n",
              "3               1.0           clear-night   \n",
              "4               1.0   partly-cloudy-night   "
            ],
            "text/html": [
              "\n",
              "  <div id=\"df-4f58782a-af0f-438d-9b0b-e7467861825d\">\n",
              "    <div class=\"colab-df-container\">\n",
              "      <div>\n",
              "<style scoped>\n",
              "    .dataframe tbody tr th:only-of-type {\n",
              "        vertical-align: middle;\n",
              "    }\n",
              "\n",
              "    .dataframe tbody tr th {\n",
              "        vertical-align: top;\n",
              "    }\n",
              "\n",
              "    .dataframe thead th {\n",
              "        text-align: right;\n",
              "    }\n",
              "</style>\n",
              "<table border=\"1\" class=\"dataframe\">\n",
              "  <thead>\n",
              "    <tr style=\"text-align: right;\">\n",
              "      <th></th>\n",
              "      <th>source</th>\n",
              "      <th>destination</th>\n",
              "      <th>cab_type</th>\n",
              "      <th>name</th>\n",
              "      <th>price</th>\n",
              "      <th>distance</th>\n",
              "      <th>surge_multiplier</th>\n",
              "      <th>icon</th>\n",
              "    </tr>\n",
              "  </thead>\n",
              "  <tbody>\n",
              "    <tr>\n",
              "      <th>0</th>\n",
              "      <td>Haymarket Square</td>\n",
              "      <td>North Station</td>\n",
              "      <td>Lyft</td>\n",
              "      <td>Shared</td>\n",
              "      <td>5.0</td>\n",
              "      <td>0.44</td>\n",
              "      <td>1.0</td>\n",
              "      <td>partly-cloudy-night</td>\n",
              "    </tr>\n",
              "    <tr>\n",
              "      <th>1</th>\n",
              "      <td>Haymarket Square</td>\n",
              "      <td>North Station</td>\n",
              "      <td>Lyft</td>\n",
              "      <td>Lux</td>\n",
              "      <td>11.0</td>\n",
              "      <td>0.44</td>\n",
              "      <td>1.0</td>\n",
              "      <td>rain</td>\n",
              "    </tr>\n",
              "    <tr>\n",
              "      <th>2</th>\n",
              "      <td>Haymarket Square</td>\n",
              "      <td>North Station</td>\n",
              "      <td>Lyft</td>\n",
              "      <td>Lyft</td>\n",
              "      <td>7.0</td>\n",
              "      <td>0.44</td>\n",
              "      <td>1.0</td>\n",
              "      <td>clear-night</td>\n",
              "    </tr>\n",
              "    <tr>\n",
              "      <th>3</th>\n",
              "      <td>Haymarket Square</td>\n",
              "      <td>North Station</td>\n",
              "      <td>Lyft</td>\n",
              "      <td>Lux Black XL</td>\n",
              "      <td>26.0</td>\n",
              "      <td>0.44</td>\n",
              "      <td>1.0</td>\n",
              "      <td>clear-night</td>\n",
              "    </tr>\n",
              "    <tr>\n",
              "      <th>4</th>\n",
              "      <td>Haymarket Square</td>\n",
              "      <td>North Station</td>\n",
              "      <td>Lyft</td>\n",
              "      <td>Lyft XL</td>\n",
              "      <td>9.0</td>\n",
              "      <td>0.44</td>\n",
              "      <td>1.0</td>\n",
              "      <td>partly-cloudy-night</td>\n",
              "    </tr>\n",
              "  </tbody>\n",
              "</table>\n",
              "</div>\n",
              "      <button class=\"colab-df-convert\" onclick=\"convertToInteractive('df-4f58782a-af0f-438d-9b0b-e7467861825d')\"\n",
              "              title=\"Convert this dataframe to an interactive table.\"\n",
              "              style=\"display:none;\">\n",
              "        \n",
              "  <svg xmlns=\"http://www.w3.org/2000/svg\" height=\"24px\"viewBox=\"0 0 24 24\"\n",
              "       width=\"24px\">\n",
              "    <path d=\"M0 0h24v24H0V0z\" fill=\"none\"/>\n",
              "    <path d=\"M18.56 5.44l.94 2.06.94-2.06 2.06-.94-2.06-.94-.94-2.06-.94 2.06-2.06.94zm-11 1L8.5 8.5l.94-2.06 2.06-.94-2.06-.94L8.5 2.5l-.94 2.06-2.06.94zm10 10l.94 2.06.94-2.06 2.06-.94-2.06-.94-.94-2.06-.94 2.06-2.06.94z\"/><path d=\"M17.41 7.96l-1.37-1.37c-.4-.4-.92-.59-1.43-.59-.52 0-1.04.2-1.43.59L10.3 9.45l-7.72 7.72c-.78.78-.78 2.05 0 2.83L4 21.41c.39.39.9.59 1.41.59.51 0 1.02-.2 1.41-.59l7.78-7.78 2.81-2.81c.8-.78.8-2.07 0-2.86zM5.41 20L4 18.59l7.72-7.72 1.47 1.35L5.41 20z\"/>\n",
              "  </svg>\n",
              "      </button>\n",
              "      \n",
              "  <style>\n",
              "    .colab-df-container {\n",
              "      display:flex;\n",
              "      flex-wrap:wrap;\n",
              "      gap: 12px;\n",
              "    }\n",
              "\n",
              "    .colab-df-convert {\n",
              "      background-color: #E8F0FE;\n",
              "      border: none;\n",
              "      border-radius: 50%;\n",
              "      cursor: pointer;\n",
              "      display: none;\n",
              "      fill: #1967D2;\n",
              "      height: 32px;\n",
              "      padding: 0 0 0 0;\n",
              "      width: 32px;\n",
              "    }\n",
              "\n",
              "    .colab-df-convert:hover {\n",
              "      background-color: #E2EBFA;\n",
              "      box-shadow: 0px 1px 2px rgba(60, 64, 67, 0.3), 0px 1px 3px 1px rgba(60, 64, 67, 0.15);\n",
              "      fill: #174EA6;\n",
              "    }\n",
              "\n",
              "    [theme=dark] .colab-df-convert {\n",
              "      background-color: #3B4455;\n",
              "      fill: #D2E3FC;\n",
              "    }\n",
              "\n",
              "    [theme=dark] .colab-df-convert:hover {\n",
              "      background-color: #434B5C;\n",
              "      box-shadow: 0px 1px 3px 1px rgba(0, 0, 0, 0.15);\n",
              "      filter: drop-shadow(0px 1px 2px rgba(0, 0, 0, 0.3));\n",
              "      fill: #FFFFFF;\n",
              "    }\n",
              "  </style>\n",
              "\n",
              "      <script>\n",
              "        const buttonEl =\n",
              "          document.querySelector('#df-4f58782a-af0f-438d-9b0b-e7467861825d button.colab-df-convert');\n",
              "        buttonEl.style.display =\n",
              "          google.colab.kernel.accessAllowed ? 'block' : 'none';\n",
              "\n",
              "        async function convertToInteractive(key) {\n",
              "          const element = document.querySelector('#df-4f58782a-af0f-438d-9b0b-e7467861825d');\n",
              "          const dataTable =\n",
              "            await google.colab.kernel.invokeFunction('convertToInteractive',\n",
              "                                                     [key], {});\n",
              "          if (!dataTable) return;\n",
              "\n",
              "          const docLinkHtml = 'Like what you see? Visit the ' +\n",
              "            '<a target=\"_blank\" href=https://colab.research.google.com/notebooks/data_table.ipynb>data table notebook</a>'\n",
              "            + ' to learn more about interactive tables.';\n",
              "          element.innerHTML = '';\n",
              "          dataTable['output_type'] = 'display_data';\n",
              "          await google.colab.output.renderOutput(dataTable, element);\n",
              "          const docLink = document.createElement('div');\n",
              "          docLink.innerHTML = docLinkHtml;\n",
              "          element.appendChild(docLink);\n",
              "        }\n",
              "      </script>\n",
              "    </div>\n",
              "  </div>\n",
              "  "
            ]
          },
          "metadata": {},
          "execution_count": 18
        }
      ]
    },
    {
      "cell_type": "code",
      "source": [
        "from sklearn.linear_model import LinearRegression\n",
        "from sklearn.model_selection import cross_val_score\n",
        "from sklearn.preprocessing import MinMaxScaler, OneHotEncoder\n",
        "from sklearn.compose import make_column_transformer\n",
        "from sklearn.model_selection import train_test_split\n",
        "\n",
        "\n",
        "linreg = LinearRegression()\n",
        "\n",
        "X = df.drop('price', axis = 'columns')\n",
        "y = df['price']\n",
        "\n",
        "#X_train, X_test, y_train, y_test = train_test_split( X, y, test_size=0.33)\n",
        "\n",
        "column_trans = make_column_transformer((OneHotEncoder(), ['source', 'destination','cab_type','name','icon']),\n",
        "                                       remainder = 'passthrough')\n",
        "\n",
        "\n"
      ],
      "metadata": {
        "id": "vA9og1h52hNd"
      },
      "execution_count": 19,
      "outputs": []
    },
    {
      "cell_type": "code",
      "source": [
        "X_base = column_trans.fit_transform(X)"
      ],
      "metadata": {
        "id": "8ilh19wcFXCx"
      },
      "execution_count": 20,
      "outputs": []
    },
    {
      "cell_type": "code",
      "source": [
        "X_base"
      ],
      "metadata": {
        "colab": {
          "base_uri": "https://localhost:8080/"
        },
        "id": "5THKVWwe97-g",
        "outputId": "521405e8-1489-440b-c1f1-7290d7f8f1cb"
      },
      "execution_count": 21,
      "outputs": [
        {
          "output_type": "execute_result",
          "data": {
            "text/plain": [
              "<134455x49 sparse matrix of type '<class 'numpy.float64'>'\n",
              "\twith 941185 stored elements in Compressed Sparse Row format>"
            ]
          },
          "metadata": {},
          "execution_count": 21
        }
      ]
    },
    {
      "cell_type": "code",
      "source": [
        "X_train, X_test, y_train, y_test = train_test_split( X_base, y, test_size=0.33)"
      ],
      "metadata": {
        "id": "QxaAxwL6ED90"
      },
      "execution_count": 22,
      "outputs": []
    },
    {
      "cell_type": "code",
      "source": [
        "from sklearn.metrics import mean_squared_error, r2_score\n",
        "\n",
        "def evaluate_model(model, X_train = X_train, y_train = y_train, X_test = X_test, y_test = y_test):\n",
        "\n",
        "  y_predict = model.predict(X_train)\n",
        "  print(\"train mse: \", mean_squared_error(y_predict, y_train))\n",
        "\n",
        "  y_predict = model.predict(X_test)\n",
        "  print(\"test mse: \", mean_squared_error(y_predict, y_test))\n",
        "\n",
        "  print(\"test r2_score: \", r2_score(y_predict, y_test))\n",
        "\n",
        "\n",
        "\n"
      ],
      "metadata": {
        "id": "nH27dtrJ-DOc"
      },
      "execution_count": 23,
      "outputs": []
    },
    {
      "cell_type": "markdown",
      "source": [
        "the best estimator was ridge(alpha = 1e-15), LinearSVR(loss='squared_epsilon_insensitive'), tree.DecisionTreeRegressor(max_depth=14, min_samples_leaf=10)"
      ],
      "metadata": {
        "id": "SChgxAW_I3Y-"
      }
    },
    {
      "cell_type": "code",
      "source": [
        "from sklearn.linear_model import Ridge\n",
        "from sklearn.svm import LinearSVR\n",
        "from sklearn.model_selection import GridSearchCV\n",
        "from sklearn import tree\n",
        "\n",
        "#baseline linear regreesion\n",
        "\n",
        "#model = Ridge(alpha = 1e-15)\n",
        "#hyperParameters = {'alpha':[1e-15,1e-10,1e-8,1e-3,1e-2,1,5,10,20,30,35,40,45,50,55,100]}\n",
        "#ridgeRegressor = GridSearchCV(model, hyperParameters, scoring='neg_mean_squared_error', cv=5)\n",
        "#ridgeRegressor.fit(X_train, y_train)\n",
        "#ridgeRegressor.best_estimator_\n",
        "#model.fit(X_train, y_train)\n",
        "#evaluate_model(model)\n",
        "\n",
        "#baseline svm\n",
        "#model = LinearSVR(loss='squared_epsilon_insensitive')\n",
        "#model.fit(X_train, y_train)\n",
        "#evaluate_model(model)\n",
        "#parameters = { \"loss\": [\"epsilon_insensitive\", \"squared_epsilon_insensitive\"]}\n",
        "#search = GridSearchCV(model, parameters)\n",
        "\n",
        "#search.fit(X_train, y_train)\n",
        "#search.best_estimator_\n",
        "\n",
        "#baseline decision trees\n",
        "model = tree.DecisionTreeRegressor(max_depth=11, min_samples_leaf=10)\n",
        "#hyperParameters = {'min_samples_leaf':[2,4,6,8,10],'min_samples_split':[2,3,4,5,6,7,8],'max_depth':[2,4,6,8,10,12,14]}\n",
        "#search = GridSearchCV(model, hyperParameters, scoring='neg_mean_squared_error', cv=5)\n",
        "#search.fit(X_train, y_train)\n",
        "#search.best_estimator_\n",
        "model.fit(X_train, y_train)\n",
        "evaluate_model(model)\n"
      ],
      "metadata": {
        "id": "f840NIUjHPWF",
        "colab": {
          "base_uri": "https://localhost:8080/"
        },
        "outputId": "a0e300af-57bd-451b-e80f-ce44348f785e"
      },
      "execution_count": 24,
      "outputs": [
        {
          "output_type": "stream",
          "name": "stdout",
          "text": [
            "train mse:  3.2803540468122057\n",
            "test mse:  3.225799927156943\n",
            "test r2_score:  0.9589358735660316\n"
          ]
        }
      ]
    },
    {
      "cell_type": "code",
      "source": [
        "#Experiment 1\n",
        "import copy\n",
        "\n",
        "def experiment_1(df, i):\n",
        "  df_copy = copy.deepcopy(df)\n",
        "\n",
        "  for i in range(2, i+1):\n",
        "\n",
        "    df_copy[str(i)] = df_copy['distance']+i\n",
        "    df_copy[str(i)+'_'+str(i-1)] = df_copy['distance']*i\n",
        "    df_copy[str(i)+'_'+str(i-2)] = df_copy['distance'].pow(i)\n",
        "\n",
        "    df_copy['surge'+ str(i)] = df_copy['surge_multiplier']+i\n",
        "    df_copy['surge'+str(i)+'_'+str(i-1)] = df_copy['surge_multiplier']*i\n",
        "    df_copy['surge'+ str(i)+'_'+str(i-2)] = df_copy['surge_multiplier'].pow(i)\n",
        "\n",
        "  df_copy = df_copy.drop(columns = ['distance', 'surge_multiplier'])\n",
        "\n",
        "  return df_copy\n",
        "\n",
        "\n"
      ],
      "metadata": {
        "id": "8Q5be3FbOGwb"
      },
      "execution_count": 25,
      "outputs": []
    },
    {
      "cell_type": "code",
      "source": [
        "X_1 = experiment_1(X, 5)\n",
        "X_1 = column_trans.fit_transform(X_1)\n",
        "\n",
        "X_train, X_test, y_train, y_test = train_test_split( X_1, y, test_size=0.33)\n",
        "\n",
        "#baseline linear regreesion\n",
        "model = tree.DecisionTreeRegressor(max_depth=14, min_samples_leaf=10)\n",
        "model.fit(X_train, y_train)\n",
        "evaluate_model(model, X_train = X_train, y_train = y_train, X_test = X_test, y_test = y_test)\n"
      ],
      "metadata": {
        "colab": {
          "base_uri": "https://localhost:8080/"
        },
        "id": "EZM_kIgdqg7n",
        "outputId": "5572a851-3ae7-4c44-827a-170a2d6c1615"
      },
      "execution_count": 26,
      "outputs": [
        {
          "output_type": "stream",
          "name": "stdout",
          "text": [
            "train mse:  2.619929928018338\n",
            "test mse:  2.8709743108700088\n",
            "test r2_score:  0.9635225413375691\n"
          ]
        }
      ]
    },
    {
      "cell_type": "code",
      "source": [
        "#Experiment 2\n",
        "from sklearn.preprocessing import PolynomialFeatures\n",
        "\n",
        "column_trans = make_column_transformer((OneHotEncoder(), ['source', 'destination','cab_type','name','icon']),\n",
        "                                       (PolynomialFeatures(2), ['distance', 'surge_multiplier']))\n",
        "\n",
        "X_2 = column_trans.fit_transform(X)\n",
        "\n",
        "X_train, X_test, y_train, y_test = train_test_split( X_2, y, test_size=0.33)\n",
        "\n",
        "model = tree.DecisionTreeRegressor(max_depth=14, min_samples_leaf=10)\n",
        "model.fit(X_train, y_train)\n",
        "evaluate_model(model, X_train = X_train, y_train = y_train, X_test = X_test, y_test = y_test)\n"
      ],
      "metadata": {
        "colab": {
          "base_uri": "https://localhost:8080/"
        },
        "id": "chfYag-fu9xB",
        "outputId": "3967be5e-6a09-4c6c-de7e-19876c2a5a38"
      },
      "execution_count": 27,
      "outputs": [
        {
          "output_type": "stream",
          "name": "stdout",
          "text": [
            "train mse:  2.5599522204185456\n",
            "test mse:  2.9061766875125223\n",
            "test r2_score:  0.9630176236755839\n"
          ]
        }
      ]
    },
    {
      "cell_type": "code",
      "source": [
        "#Experiment 3\n",
        "from sklearn.decomposition import PCA\n",
        "\n",
        "column_trans = make_column_transformer((OneHotEncoder(), ['source', 'destination','cab_type','name','icon']),\n",
        "                                       (PCA(n_components = .95), ['distance', 'surge_multiplier']))\n",
        "\n",
        "X_3 = column_trans.fit_transform(X)\n",
        "#pca = PCA(n_components = .95)\n",
        "\n",
        "#pca.fit_transform(X_3)\n",
        "\n",
        "X_train, X_test, y_train, y_test = train_test_split(X_3, y, test_size=0.33)\n",
        "model = tree.DecisionTreeRegressor(max_depth=14, min_samples_leaf=10)\n",
        "model.fit(X_train, y_train)\n",
        "evaluate_model(model, X_train = X_train, y_train = y_train, X_test = X_test, y_test = y_test)\n",
        "\n"
      ],
      "metadata": {
        "id": "7_MJHfS_zpqc",
        "colab": {
          "base_uri": "https://localhost:8080/"
        },
        "outputId": "c031931a-4b2e-4ae8-8a9c-d4667f87d8d2"
      },
      "execution_count": 28,
      "outputs": [
        {
          "output_type": "stream",
          "name": "stdout",
          "text": [
            "train mse:  5.517372371485677\n",
            "test mse:  6.065180538463113\n",
            "test r2_score:  0.920259731129689\n"
          ]
        }
      ]
    },
    {
      "cell_type": "code",
      "source": [
        "#Experiment 4\n",
        "from sklearn.preprocessing import StandardScaler\n",
        "\n",
        "column_trans = make_column_transformer((OneHotEncoder(), ['source', 'destination','cab_type','name','icon']),\n",
        "                                       (StandardScaler(), ['distance', 'surge_multiplier']))\n",
        "\n",
        "X_4 = column_trans.fit_transform(X)\n",
        "\n",
        "\n",
        "X_train, X_test, y_train, y_test = train_test_split(X_4, y, test_size=0.33)\n",
        "\n",
        "model = LinearSVR(loss='squared_epsilon_insensitive')\n",
        "model.fit(X_train, y_train)\n",
        "evaluate_model(model, X_train = X_train, y_train = y_train, X_test = X_test, y_test = y_test)\n",
        "\n"
      ],
      "metadata": {
        "colab": {
          "base_uri": "https://localhost:8080/"
        },
        "id": "RbvoyUHV0zs-",
        "outputId": "6afa4ac8-c0f7-4a46-aaf8-467a3dd6683d"
      },
      "execution_count": 29,
      "outputs": [
        {
          "output_type": "stream",
          "name": "stdout",
          "text": [
            "train mse:  6.634806006787007\n",
            "test mse:  6.505479490720507\n",
            "test r2_score:  0.9135630846196383\n"
          ]
        },
        {
          "output_type": "stream",
          "name": "stderr",
          "text": [
            "/usr/local/lib/python3.9/dist-packages/sklearn/svm/_base.py:1244: ConvergenceWarning: Liblinear failed to converge, increase the number of iterations.\n",
            "  warnings.warn(\n"
          ]
        }
      ]
    },
    {
      "cell_type": "code",
      "source": [
        "#Experiment 5\n",
        "import random\n",
        "#import numpy.random as random\n",
        "from matplotlib import pyplot\n",
        "\n",
        "X_5 = copy.deepcopy(X)\n",
        "\n",
        "X_5['Random'] = [random.uniform(100,200) for _ in range(len(X))]\n",
        "X_5['Disc_Random'] = [random.randrange(100,200,50) for _ in range(len(X))]\n",
        "\n",
        "column_trans = make_column_transformer((OneHotEncoder(), ['source', 'destination','cab_type','name','icon']),\n",
        "                                        (StandardScaler(), ['distance', 'surge_multiplier']))\n",
        "\n",
        "X_5_trans = column_trans.fit_transform(X_5)\n",
        "\n",
        "X_train, X_test, y_train, y_test = train_test_split(X_5_trans, y, test_size=0.33)\n",
        "\n",
        "model = LinearSVR(loss='squared_epsilon_insensitive')\n",
        "model.fit(X_train, y_train)\n",
        "evaluate_model(model, X_train = X_train, y_train = y_train, X_test = X_test, y_test = y_test)\n",
        "\n",
        "# importance = model.feature_importances_\n",
        "# print(len(importance))\n",
        "# for i,v in enumerate(importance):\n",
        "#   print(\"Feature: %s, Score: %.5f\" % (df.columns[i], v))\n",
        "\n",
        "# dummy = [x for x in range(len(importance))]\n",
        "# pyplot.bar(dummy, importance)\n",
        "# #plt.xticks(dummy, features)\n",
        "# plt.xticks(rotation = 90, ha = 'right')\n",
        "# pyplot.show()\n",
        "\n",
        "#evaluate_model(model, X_train = X_train, y_train = y_train, X_test = X_test, y_test = y_test)\n",
        "\n"
      ],
      "metadata": {
        "colab": {
          "base_uri": "https://localhost:8080/"
        },
        "id": "Ea9Ao3ty95-D",
        "outputId": "a0586605-977c-4b96-abaf-7788dbab43c6"
      },
      "execution_count": 37,
      "outputs": [
        {
          "output_type": "stream",
          "name": "stdout",
          "text": [
            "train mse:  6.5728419445752\n",
            "test mse:  6.629927373659976\n",
            "test r2_score:  0.9117467398654268\n"
          ]
        },
        {
          "output_type": "stream",
          "name": "stderr",
          "text": [
            "/usr/local/lib/python3.9/dist-packages/sklearn/svm/_base.py:1244: ConvergenceWarning: Liblinear failed to converge, increase the number of iterations.\n",
            "  warnings.warn(\n"
          ]
        }
      ]
    },
    {
      "cell_type": "code",
      "source": [
        "X_5_trans.toarray()[20]"
      ],
      "metadata": {
        "colab": {
          "base_uri": "https://localhost:8080/"
        },
        "id": "_U7PFKUQSCwk",
        "outputId": "a84ca85d-44c5-4280-ee45-36e102b060e2"
      },
      "execution_count": 60,
      "outputs": [
        {
          "output_type": "execute_result",
          "data": {
            "text/plain": [
              "array([  0.        ,   0.        ,   0.        ,   0.        ,\n",
              "         0.        ,   0.        ,   0.        ,   1.        ,\n",
              "         0.        ,   0.        ,   0.        ,   0.        ,\n",
              "         0.        ,   0.        ,   0.        ,   0.        ,\n",
              "         0.        ,   1.        ,   0.        ,   0.        ,\n",
              "         0.        ,   0.        ,   0.        ,   0.        ,\n",
              "         1.        ,   0.        ,   0.        ,   0.        ,\n",
              "         0.        ,   1.        ,   0.        ,   0.        ,\n",
              "         0.        ,   0.        ,   0.        ,   0.        ,\n",
              "         0.        ,   0.        ,   0.        ,   0.        ,\n",
              "         0.        ,   0.        ,   0.        ,   1.        ,\n",
              "         0.        ,   0.        ,   0.72      ,   1.        ,\n",
              "       123.76118176])"
            ]
          },
          "metadata": {},
          "execution_count": 60
        }
      ]
    },
    {
      "cell_type": "code",
      "source": [
        "features = ['distance', 'surge multiplier', 'random']"
      ],
      "metadata": {
        "id": "QEP5PyV0fCe-"
      },
      "execution_count": null,
      "outputs": []
    },
    {
      "cell_type": "code",
      "source": [
        "X_5.head()"
      ],
      "metadata": {
        "colab": {
          "base_uri": "https://localhost:8080/",
          "height": 204
        },
        "id": "79_yq-gToqdE",
        "outputId": "08cecbb2-47d1-4608-b485-7ea556ba6ee2"
      },
      "execution_count": 58,
      "outputs": [
        {
          "output_type": "execute_result",
          "data": {
            "text/plain": [
              "             source    destination cab_type          name  distance  \\\n",
              "0  Haymarket Square  North Station     Lyft        Shared      0.44   \n",
              "1  Haymarket Square  North Station     Lyft           Lux      0.44   \n",
              "2  Haymarket Square  North Station     Lyft          Lyft      0.44   \n",
              "3  Haymarket Square  North Station     Lyft  Lux Black XL      0.44   \n",
              "4  Haymarket Square  North Station     Lyft       Lyft XL      0.44   \n",
              "\n",
              "   surge_multiplier                   icon      Random  \n",
              "0               1.0   partly-cloudy-night   191.804421  \n",
              "1               1.0                  rain   193.303216  \n",
              "2               1.0           clear-night   182.210815  \n",
              "3               1.0           clear-night   183.820326  \n",
              "4               1.0   partly-cloudy-night   138.848030  "
            ],
            "text/html": [
              "\n",
              "  <div id=\"df-666d2cfa-fa5a-44ec-abec-b581b1adad66\">\n",
              "    <div class=\"colab-df-container\">\n",
              "      <div>\n",
              "<style scoped>\n",
              "    .dataframe tbody tr th:only-of-type {\n",
              "        vertical-align: middle;\n",
              "    }\n",
              "\n",
              "    .dataframe tbody tr th {\n",
              "        vertical-align: top;\n",
              "    }\n",
              "\n",
              "    .dataframe thead th {\n",
              "        text-align: right;\n",
              "    }\n",
              "</style>\n",
              "<table border=\"1\" class=\"dataframe\">\n",
              "  <thead>\n",
              "    <tr style=\"text-align: right;\">\n",
              "      <th></th>\n",
              "      <th>source</th>\n",
              "      <th>destination</th>\n",
              "      <th>cab_type</th>\n",
              "      <th>name</th>\n",
              "      <th>distance</th>\n",
              "      <th>surge_multiplier</th>\n",
              "      <th>icon</th>\n",
              "      <th>Random</th>\n",
              "    </tr>\n",
              "  </thead>\n",
              "  <tbody>\n",
              "    <tr>\n",
              "      <th>0</th>\n",
              "      <td>Haymarket Square</td>\n",
              "      <td>North Station</td>\n",
              "      <td>Lyft</td>\n",
              "      <td>Shared</td>\n",
              "      <td>0.44</td>\n",
              "      <td>1.0</td>\n",
              "      <td>partly-cloudy-night</td>\n",
              "      <td>191.804421</td>\n",
              "    </tr>\n",
              "    <tr>\n",
              "      <th>1</th>\n",
              "      <td>Haymarket Square</td>\n",
              "      <td>North Station</td>\n",
              "      <td>Lyft</td>\n",
              "      <td>Lux</td>\n",
              "      <td>0.44</td>\n",
              "      <td>1.0</td>\n",
              "      <td>rain</td>\n",
              "      <td>193.303216</td>\n",
              "    </tr>\n",
              "    <tr>\n",
              "      <th>2</th>\n",
              "      <td>Haymarket Square</td>\n",
              "      <td>North Station</td>\n",
              "      <td>Lyft</td>\n",
              "      <td>Lyft</td>\n",
              "      <td>0.44</td>\n",
              "      <td>1.0</td>\n",
              "      <td>clear-night</td>\n",
              "      <td>182.210815</td>\n",
              "    </tr>\n",
              "    <tr>\n",
              "      <th>3</th>\n",
              "      <td>Haymarket Square</td>\n",
              "      <td>North Station</td>\n",
              "      <td>Lyft</td>\n",
              "      <td>Lux Black XL</td>\n",
              "      <td>0.44</td>\n",
              "      <td>1.0</td>\n",
              "      <td>clear-night</td>\n",
              "      <td>183.820326</td>\n",
              "    </tr>\n",
              "    <tr>\n",
              "      <th>4</th>\n",
              "      <td>Haymarket Square</td>\n",
              "      <td>North Station</td>\n",
              "      <td>Lyft</td>\n",
              "      <td>Lyft XL</td>\n",
              "      <td>0.44</td>\n",
              "      <td>1.0</td>\n",
              "      <td>partly-cloudy-night</td>\n",
              "      <td>138.848030</td>\n",
              "    </tr>\n",
              "  </tbody>\n",
              "</table>\n",
              "</div>\n",
              "      <button class=\"colab-df-convert\" onclick=\"convertToInteractive('df-666d2cfa-fa5a-44ec-abec-b581b1adad66')\"\n",
              "              title=\"Convert this dataframe to an interactive table.\"\n",
              "              style=\"display:none;\">\n",
              "        \n",
              "  <svg xmlns=\"http://www.w3.org/2000/svg\" height=\"24px\"viewBox=\"0 0 24 24\"\n",
              "       width=\"24px\">\n",
              "    <path d=\"M0 0h24v24H0V0z\" fill=\"none\"/>\n",
              "    <path d=\"M18.56 5.44l.94 2.06.94-2.06 2.06-.94-2.06-.94-.94-2.06-.94 2.06-2.06.94zm-11 1L8.5 8.5l.94-2.06 2.06-.94-2.06-.94L8.5 2.5l-.94 2.06-2.06.94zm10 10l.94 2.06.94-2.06 2.06-.94-2.06-.94-.94-2.06-.94 2.06-2.06.94z\"/><path d=\"M17.41 7.96l-1.37-1.37c-.4-.4-.92-.59-1.43-.59-.52 0-1.04.2-1.43.59L10.3 9.45l-7.72 7.72c-.78.78-.78 2.05 0 2.83L4 21.41c.39.39.9.59 1.41.59.51 0 1.02-.2 1.41-.59l7.78-7.78 2.81-2.81c.8-.78.8-2.07 0-2.86zM5.41 20L4 18.59l7.72-7.72 1.47 1.35L5.41 20z\"/>\n",
              "  </svg>\n",
              "      </button>\n",
              "      \n",
              "  <style>\n",
              "    .colab-df-container {\n",
              "      display:flex;\n",
              "      flex-wrap:wrap;\n",
              "      gap: 12px;\n",
              "    }\n",
              "\n",
              "    .colab-df-convert {\n",
              "      background-color: #E8F0FE;\n",
              "      border: none;\n",
              "      border-radius: 50%;\n",
              "      cursor: pointer;\n",
              "      display: none;\n",
              "      fill: #1967D2;\n",
              "      height: 32px;\n",
              "      padding: 0 0 0 0;\n",
              "      width: 32px;\n",
              "    }\n",
              "\n",
              "    .colab-df-convert:hover {\n",
              "      background-color: #E2EBFA;\n",
              "      box-shadow: 0px 1px 2px rgba(60, 64, 67, 0.3), 0px 1px 3px 1px rgba(60, 64, 67, 0.15);\n",
              "      fill: #174EA6;\n",
              "    }\n",
              "\n",
              "    [theme=dark] .colab-df-convert {\n",
              "      background-color: #3B4455;\n",
              "      fill: #D2E3FC;\n",
              "    }\n",
              "\n",
              "    [theme=dark] .colab-df-convert:hover {\n",
              "      background-color: #434B5C;\n",
              "      box-shadow: 0px 1px 3px 1px rgba(0, 0, 0, 0.15);\n",
              "      filter: drop-shadow(0px 1px 2px rgba(0, 0, 0, 0.3));\n",
              "      fill: #FFFFFF;\n",
              "    }\n",
              "  </style>\n",
              "\n",
              "      <script>\n",
              "        const buttonEl =\n",
              "          document.querySelector('#df-666d2cfa-fa5a-44ec-abec-b581b1adad66 button.colab-df-convert');\n",
              "        buttonEl.style.display =\n",
              "          google.colab.kernel.accessAllowed ? 'block' : 'none';\n",
              "\n",
              "        async function convertToInteractive(key) {\n",
              "          const element = document.querySelector('#df-666d2cfa-fa5a-44ec-abec-b581b1adad66');\n",
              "          const dataTable =\n",
              "            await google.colab.kernel.invokeFunction('convertToInteractive',\n",
              "                                                     [key], {});\n",
              "          if (!dataTable) return;\n",
              "\n",
              "          const docLinkHtml = 'Like what you see? Visit the ' +\n",
              "            '<a target=\"_blank\" href=https://colab.research.google.com/notebooks/data_table.ipynb>data table notebook</a>'\n",
              "            + ' to learn more about interactive tables.';\n",
              "          element.innerHTML = '';\n",
              "          dataTable['output_type'] = 'display_data';\n",
              "          await google.colab.output.renderOutput(dataTable, element);\n",
              "          const docLink = document.createElement('div');\n",
              "          docLink.innerHTML = docLinkHtml;\n",
              "          element.appendChild(docLink);\n",
              "        }\n",
              "      </script>\n",
              "    </div>\n",
              "  </div>\n",
              "  "
            ]
          },
          "metadata": {},
          "execution_count": 58
        }
      ]
    },
    {
      "cell_type": "code",
      "source": [
        "print(importance)"
      ],
      "metadata": {
        "colab": {
          "base_uri": "https://localhost:8080/"
        },
        "id": "EIvYg2EDot1K",
        "outputId": "405abfbb-bbdb-4370-9495-798e0b92fc27"
      },
      "execution_count": 59,
      "outputs": [
        {
          "output_type": "stream",
          "name": "stdout",
          "text": [
            "[2.11167965e-04 3.06165458e-04 1.06679741e-04 2.99966320e-05\n",
            " 1.00190368e-04 4.35635351e-05 3.09470358e-04 8.06063745e-05\n",
            " 1.17806752e-04 1.32884675e-04 6.66149649e-05 8.63091696e-05\n",
            " 3.69004099e-04 1.67337766e-04 3.34351022e-05 9.29194003e-05\n",
            " 8.77844462e-05 4.49272933e-06 2.92000959e-05 7.87909233e-05\n",
            " 4.07206469e-05 2.01331295e-04 7.53248512e-05 6.68726100e-05\n",
            " 4.98469171e-05 2.17816211e-05 6.62450524e-02 2.48224382e-01\n",
            " 3.97287590e-02 9.59860008e-02 2.74494111e-01 0.00000000e+00\n",
            " 2.54229126e-02 2.75675083e-02 1.00000039e-02 7.33234982e-04\n",
            " 0.00000000e+00 2.13551248e-02 0.00000000e+00 0.00000000e+00\n",
            " 6.48749919e-06 1.57781372e-04 1.07685921e-06 7.00415624e-05\n",
            " 1.12182968e-04 2.74593766e-05 1.45751292e-01 3.97901086e-02\n",
            " 1.41618201e-03]\n"
          ]
        }
      ]
    },
    {
      "cell_type": "code",
      "source": [
        "#Making Pipeline for best performing model (in my opinion)\n",
        "from sklearn.pipeline import make_pipeline\n",
        "from sklearn.preprocessing import StandardScaler\n",
        "\n",
        "\n",
        "\n",
        "column_trans = make_column_transformer((OneHotEncoder(), ['source', 'destination','cab_type','name','icon']),\n",
        "                                       (StandardScaler(), ['distance', 'surge_multiplier']),\n",
        "                                       (PolynomialFeatures(2), ['distance', 'surge_multiplier']))\n",
        "\n",
        "#column_trans.fit_transform(X)\n",
        "X_train, X_test, y_train, y_test = train_test_split(X, y, test_size=0.33)\n",
        "\n",
        "pipe = make_pipeline(column_trans, Ridge(alpha = 1e-15))\n",
        "\n",
        "pipe.fit(X_train, y_train)\n",
        "\n",
        "\n",
        "#evaluate_model(model, X_train = X_train, y_train = y_train, X_test = X_test, y_test = y_test)\n"
      ],
      "metadata": {
        "colab": {
          "base_uri": "https://localhost:8080/",
          "height": 188
        },
        "id": "tgAjA6hWvbxr",
        "outputId": "82ec11f9-2eba-4b2c-858c-85b93e7d1efb"
      },
      "execution_count": 20,
      "outputs": [
        {
          "output_type": "execute_result",
          "data": {
            "text/plain": [
              "Pipeline(steps=[('columntransformer',\n",
              "                 ColumnTransformer(transformers=[('onehotencoder',\n",
              "                                                  OneHotEncoder(),\n",
              "                                                  ['source', 'destination',\n",
              "                                                   'cab_type', 'name',\n",
              "                                                   'icon']),\n",
              "                                                 ('standardscaler',\n",
              "                                                  StandardScaler(),\n",
              "                                                  ['distance',\n",
              "                                                   'surge_multiplier']),\n",
              "                                                 ('polynomialfeatures',\n",
              "                                                  PolynomialFeatures(),\n",
              "                                                  ['distance',\n",
              "                                                   'surge_multiplier'])])),\n",
              "                ('ridge', Ridge(alpha=1e-15))])"
            ],
            "text/html": [
              "<style>#sk-container-id-1 {color: black;background-color: white;}#sk-container-id-1 pre{padding: 0;}#sk-container-id-1 div.sk-toggleable {background-color: white;}#sk-container-id-1 label.sk-toggleable__label {cursor: pointer;display: block;width: 100%;margin-bottom: 0;padding: 0.3em;box-sizing: border-box;text-align: center;}#sk-container-id-1 label.sk-toggleable__label-arrow:before {content: \"▸\";float: left;margin-right: 0.25em;color: #696969;}#sk-container-id-1 label.sk-toggleable__label-arrow:hover:before {color: black;}#sk-container-id-1 div.sk-estimator:hover label.sk-toggleable__label-arrow:before {color: black;}#sk-container-id-1 div.sk-toggleable__content {max-height: 0;max-width: 0;overflow: hidden;text-align: left;background-color: #f0f8ff;}#sk-container-id-1 div.sk-toggleable__content pre {margin: 0.2em;color: black;border-radius: 0.25em;background-color: #f0f8ff;}#sk-container-id-1 input.sk-toggleable__control:checked~div.sk-toggleable__content {max-height: 200px;max-width: 100%;overflow: auto;}#sk-container-id-1 input.sk-toggleable__control:checked~label.sk-toggleable__label-arrow:before {content: \"▾\";}#sk-container-id-1 div.sk-estimator input.sk-toggleable__control:checked~label.sk-toggleable__label {background-color: #d4ebff;}#sk-container-id-1 div.sk-label input.sk-toggleable__control:checked~label.sk-toggleable__label {background-color: #d4ebff;}#sk-container-id-1 input.sk-hidden--visually {border: 0;clip: rect(1px 1px 1px 1px);clip: rect(1px, 1px, 1px, 1px);height: 1px;margin: -1px;overflow: hidden;padding: 0;position: absolute;width: 1px;}#sk-container-id-1 div.sk-estimator {font-family: monospace;background-color: #f0f8ff;border: 1px dotted black;border-radius: 0.25em;box-sizing: border-box;margin-bottom: 0.5em;}#sk-container-id-1 div.sk-estimator:hover {background-color: #d4ebff;}#sk-container-id-1 div.sk-parallel-item::after {content: \"\";width: 100%;border-bottom: 1px solid gray;flex-grow: 1;}#sk-container-id-1 div.sk-label:hover label.sk-toggleable__label {background-color: #d4ebff;}#sk-container-id-1 div.sk-serial::before {content: \"\";position: absolute;border-left: 1px solid gray;box-sizing: border-box;top: 0;bottom: 0;left: 50%;z-index: 0;}#sk-container-id-1 div.sk-serial {display: flex;flex-direction: column;align-items: center;background-color: white;padding-right: 0.2em;padding-left: 0.2em;position: relative;}#sk-container-id-1 div.sk-item {position: relative;z-index: 1;}#sk-container-id-1 div.sk-parallel {display: flex;align-items: stretch;justify-content: center;background-color: white;position: relative;}#sk-container-id-1 div.sk-item::before, #sk-container-id-1 div.sk-parallel-item::before {content: \"\";position: absolute;border-left: 1px solid gray;box-sizing: border-box;top: 0;bottom: 0;left: 50%;z-index: -1;}#sk-container-id-1 div.sk-parallel-item {display: flex;flex-direction: column;z-index: 1;position: relative;background-color: white;}#sk-container-id-1 div.sk-parallel-item:first-child::after {align-self: flex-end;width: 50%;}#sk-container-id-1 div.sk-parallel-item:last-child::after {align-self: flex-start;width: 50%;}#sk-container-id-1 div.sk-parallel-item:only-child::after {width: 0;}#sk-container-id-1 div.sk-dashed-wrapped {border: 1px dashed gray;margin: 0 0.4em 0.5em 0.4em;box-sizing: border-box;padding-bottom: 0.4em;background-color: white;}#sk-container-id-1 div.sk-label label {font-family: monospace;font-weight: bold;display: inline-block;line-height: 1.2em;}#sk-container-id-1 div.sk-label-container {text-align: center;}#sk-container-id-1 div.sk-container {/* jupyter's `normalize.less` sets `[hidden] { display: none; }` but bootstrap.min.css set `[hidden] { display: none !important; }` so we also need the `!important` here to be able to override the default hidden behavior on the sphinx rendered scikit-learn.org. See: https://github.com/scikit-learn/scikit-learn/issues/21755 */display: inline-block !important;position: relative;}#sk-container-id-1 div.sk-text-repr-fallback {display: none;}</style><div id=\"sk-container-id-1\" class=\"sk-top-container\"><div class=\"sk-text-repr-fallback\"><pre>Pipeline(steps=[(&#x27;columntransformer&#x27;,\n",
              "                 ColumnTransformer(transformers=[(&#x27;onehotencoder&#x27;,\n",
              "                                                  OneHotEncoder(),\n",
              "                                                  [&#x27;source&#x27;, &#x27;destination&#x27;,\n",
              "                                                   &#x27;cab_type&#x27;, &#x27;name&#x27;,\n",
              "                                                   &#x27;icon&#x27;]),\n",
              "                                                 (&#x27;standardscaler&#x27;,\n",
              "                                                  StandardScaler(),\n",
              "                                                  [&#x27;distance&#x27;,\n",
              "                                                   &#x27;surge_multiplier&#x27;]),\n",
              "                                                 (&#x27;polynomialfeatures&#x27;,\n",
              "                                                  PolynomialFeatures(),\n",
              "                                                  [&#x27;distance&#x27;,\n",
              "                                                   &#x27;surge_multiplier&#x27;])])),\n",
              "                (&#x27;ridge&#x27;, Ridge(alpha=1e-15))])</pre><b>In a Jupyter environment, please rerun this cell to show the HTML representation or trust the notebook. <br />On GitHub, the HTML representation is unable to render, please try loading this page with nbviewer.org.</b></div><div class=\"sk-container\" hidden><div class=\"sk-item sk-dashed-wrapped\"><div class=\"sk-label-container\"><div class=\"sk-label sk-toggleable\"><input class=\"sk-toggleable__control sk-hidden--visually\" id=\"sk-estimator-id-1\" type=\"checkbox\" ><label for=\"sk-estimator-id-1\" class=\"sk-toggleable__label sk-toggleable__label-arrow\">Pipeline</label><div class=\"sk-toggleable__content\"><pre>Pipeline(steps=[(&#x27;columntransformer&#x27;,\n",
              "                 ColumnTransformer(transformers=[(&#x27;onehotencoder&#x27;,\n",
              "                                                  OneHotEncoder(),\n",
              "                                                  [&#x27;source&#x27;, &#x27;destination&#x27;,\n",
              "                                                   &#x27;cab_type&#x27;, &#x27;name&#x27;,\n",
              "                                                   &#x27;icon&#x27;]),\n",
              "                                                 (&#x27;standardscaler&#x27;,\n",
              "                                                  StandardScaler(),\n",
              "                                                  [&#x27;distance&#x27;,\n",
              "                                                   &#x27;surge_multiplier&#x27;]),\n",
              "                                                 (&#x27;polynomialfeatures&#x27;,\n",
              "                                                  PolynomialFeatures(),\n",
              "                                                  [&#x27;distance&#x27;,\n",
              "                                                   &#x27;surge_multiplier&#x27;])])),\n",
              "                (&#x27;ridge&#x27;, Ridge(alpha=1e-15))])</pre></div></div></div><div class=\"sk-serial\"><div class=\"sk-item sk-dashed-wrapped\"><div class=\"sk-label-container\"><div class=\"sk-label sk-toggleable\"><input class=\"sk-toggleable__control sk-hidden--visually\" id=\"sk-estimator-id-2\" type=\"checkbox\" ><label for=\"sk-estimator-id-2\" class=\"sk-toggleable__label sk-toggleable__label-arrow\">columntransformer: ColumnTransformer</label><div class=\"sk-toggleable__content\"><pre>ColumnTransformer(transformers=[(&#x27;onehotencoder&#x27;, OneHotEncoder(),\n",
              "                                 [&#x27;source&#x27;, &#x27;destination&#x27;, &#x27;cab_type&#x27;, &#x27;name&#x27;,\n",
              "                                  &#x27;icon&#x27;]),\n",
              "                                (&#x27;standardscaler&#x27;, StandardScaler(),\n",
              "                                 [&#x27;distance&#x27;, &#x27;surge_multiplier&#x27;]),\n",
              "                                (&#x27;polynomialfeatures&#x27;, PolynomialFeatures(),\n",
              "                                 [&#x27;distance&#x27;, &#x27;surge_multiplier&#x27;])])</pre></div></div></div><div class=\"sk-parallel\"><div class=\"sk-parallel-item\"><div class=\"sk-item\"><div class=\"sk-label-container\"><div class=\"sk-label sk-toggleable\"><input class=\"sk-toggleable__control sk-hidden--visually\" id=\"sk-estimator-id-3\" type=\"checkbox\" ><label for=\"sk-estimator-id-3\" class=\"sk-toggleable__label sk-toggleable__label-arrow\">onehotencoder</label><div class=\"sk-toggleable__content\"><pre>[&#x27;source&#x27;, &#x27;destination&#x27;, &#x27;cab_type&#x27;, &#x27;name&#x27;, &#x27;icon&#x27;]</pre></div></div></div><div class=\"sk-serial\"><div class=\"sk-item\"><div class=\"sk-estimator sk-toggleable\"><input class=\"sk-toggleable__control sk-hidden--visually\" id=\"sk-estimator-id-4\" type=\"checkbox\" ><label for=\"sk-estimator-id-4\" class=\"sk-toggleable__label sk-toggleable__label-arrow\">OneHotEncoder</label><div class=\"sk-toggleable__content\"><pre>OneHotEncoder()</pre></div></div></div></div></div></div><div class=\"sk-parallel-item\"><div class=\"sk-item\"><div class=\"sk-label-container\"><div class=\"sk-label sk-toggleable\"><input class=\"sk-toggleable__control sk-hidden--visually\" id=\"sk-estimator-id-5\" type=\"checkbox\" ><label for=\"sk-estimator-id-5\" class=\"sk-toggleable__label sk-toggleable__label-arrow\">standardscaler</label><div class=\"sk-toggleable__content\"><pre>[&#x27;distance&#x27;, &#x27;surge_multiplier&#x27;]</pre></div></div></div><div class=\"sk-serial\"><div class=\"sk-item\"><div class=\"sk-estimator sk-toggleable\"><input class=\"sk-toggleable__control sk-hidden--visually\" id=\"sk-estimator-id-6\" type=\"checkbox\" ><label for=\"sk-estimator-id-6\" class=\"sk-toggleable__label sk-toggleable__label-arrow\">StandardScaler</label><div class=\"sk-toggleable__content\"><pre>StandardScaler()</pre></div></div></div></div></div></div><div class=\"sk-parallel-item\"><div class=\"sk-item\"><div class=\"sk-label-container\"><div class=\"sk-label sk-toggleable\"><input class=\"sk-toggleable__control sk-hidden--visually\" id=\"sk-estimator-id-7\" type=\"checkbox\" ><label for=\"sk-estimator-id-7\" class=\"sk-toggleable__label sk-toggleable__label-arrow\">polynomialfeatures</label><div class=\"sk-toggleable__content\"><pre>[&#x27;distance&#x27;, &#x27;surge_multiplier&#x27;]</pre></div></div></div><div class=\"sk-serial\"><div class=\"sk-item\"><div class=\"sk-estimator sk-toggleable\"><input class=\"sk-toggleable__control sk-hidden--visually\" id=\"sk-estimator-id-8\" type=\"checkbox\" ><label for=\"sk-estimator-id-8\" class=\"sk-toggleable__label sk-toggleable__label-arrow\">PolynomialFeatures</label><div class=\"sk-toggleable__content\"><pre>PolynomialFeatures()</pre></div></div></div></div></div></div></div></div><div class=\"sk-item\"><div class=\"sk-estimator sk-toggleable\"><input class=\"sk-toggleable__control sk-hidden--visually\" id=\"sk-estimator-id-9\" type=\"checkbox\" ><label for=\"sk-estimator-id-9\" class=\"sk-toggleable__label sk-toggleable__label-arrow\">Ridge</label><div class=\"sk-toggleable__content\"><pre>Ridge(alpha=1e-15)</pre></div></div></div></div></div></div></div>"
            ]
          },
          "metadata": {},
          "execution_count": 20
        }
      ]
    },
    {
      "cell_type": "code",
      "source": [],
      "metadata": {
        "id": "iggm6Do3cKiY"
      },
      "execution_count": null,
      "outputs": []
    }
  ]
}